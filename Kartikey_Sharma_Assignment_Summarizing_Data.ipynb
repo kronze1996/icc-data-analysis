{
  "nbformat": 4,
  "nbformat_minor": 0,
  "metadata": {
    "colab": {
      "name": "Kartikey Sharma - Assignment - Summarizing Data.ipynb",
      "provenance": [],
      "collapsed_sections": [],
      "include_colab_link": true
    },
    "kernelspec": {
      "name": "python3",
      "display_name": "Python 3"
    }
  },
  "cells": [
    {
      "cell_type": "markdown",
      "metadata": {
        "id": "view-in-github",
        "colab_type": "text"
      },
      "source": [
        "<a href=\"https://colab.research.google.com/github/kronze1996/icc-data-analysis/blob/main/Kartikey_Sharma_Assignment_Summarizing_Data.ipynb\" target=\"_parent\"><img src=\"https://colab.research.google.com/assets/colab-badge.svg\" alt=\"Open In Colab\"/></a>"
      ]
    },
    {
      "cell_type": "code",
      "metadata": {
        "id": "6wh6jgD6wtPz",
        "outputId": "941c15cb-ef27-43e7-e3ed-46147595e2f3",
        "colab": {
          "base_uri": "https://localhost:8080/"
        }
      },
      "source": [
        "from google.colab import drive\n",
        "drive.mount('/content/drive')"
      ],
      "execution_count": null,
      "outputs": [
        {
          "output_type": "stream",
          "text": [
            "Mounted at /content/drive\n"
          ],
          "name": "stdout"
        }
      ]
    },
    {
      "cell_type": "code",
      "metadata": {
        "id": "EvOah4yLwN1I"
      },
      "source": [
        "import numpy as np\n",
        "import pandas as pd\n",
        "import seaborn as sns\n",
        "import matplotlib.pyplot as plt\n",
        "\n",
        "\n",
        "# Load data\n",
        "working_directory = '/content/drive/My Drive/AlmaBetter/Cohort Aravali/Module 1/Week 4/Day 5/Data/'\n",
        "phone_data = pd.read_csv(working_directory + \"phone_data.csv\")"
      ],
      "execution_count": null,
      "outputs": []
    },
    {
      "cell_type": "markdown",
      "metadata": {
        "id": "a5m1VFY29bPV"
      },
      "source": [
        "# Problem 1\n",
        "\n",
        "Write a function which calculates the mode of a list of numbers. If there are two modes in the dataset, it should return both."
      ]
    },
    {
      "cell_type": "code",
      "metadata": {
        "id": "ZQDOGM_j9pOw",
        "outputId": "42cb4388-c6ef-409d-ebed-b549d9b22722",
        "colab": {
          "base_uri": "https://localhost:8080/"
        }
      },
      "source": [
        "from collections import defaultdict\n",
        "\n",
        "def two_modes(frequency):\n",
        "  a=dict(Counter(frequency))\n",
        "  d = defaultdict(list)\n",
        "  for key, value in a.items():\n",
        "    d[value].append(key)\n",
        "  return max(d.values())\n",
        "\n",
        "sample=[1,2,2,2,4,4,4,4,23,4,6,7,8]\n",
        "print(two_modes(sample))\n",
        "\n"
      ],
      "execution_count": null,
      "outputs": [
        {
          "output_type": "stream",
          "text": [
            "[4]\n"
          ],
          "name": "stdout"
        }
      ]
    },
    {
      "cell_type": "code",
      "metadata": {
        "id": "znxmWN9vZA7d",
        "outputId": "0232bf9f-ef8e-47c7-82df-e1f999f52af4",
        "colab": {
          "base_uri": "https://localhost:8080/"
        }
      },
      "source": [
        "def counting(a):\n",
        "  count=0\n",
        "  b=[]\n",
        "  for i in a:\n",
        "    if i == 1:\n",
        "      count+=1\n",
        "      b.append(count)\n",
        "    else:\n",
        "      count=0\n",
        "  return max(b)\n",
        "a=[0,1,1,1,0,1,1,1,1,1,0,0,0,1,1,1,1,0]\n",
        "print(counting(a))"
      ],
      "execution_count": 9,
      "outputs": [
        {
          "output_type": "stream",
          "text": [
            "5\n"
          ],
          "name": "stdout"
        }
      ]
    },
    {
      "cell_type": "markdown",
      "metadata": {
        "id": "usbgmzHr9rK-"
      },
      "source": [
        "# Problem 2\n",
        "\n",
        "Perform outlier removal in the `duration` column of `phone_data.csv`\n",
        "\n",
        "Plot the boxplot and distplot post outlier removal."
      ]
    },
    {
      "cell_type": "code",
      "metadata": {
        "id": "yjcLiEwv9p9J"
      },
      "source": [
        ""
      ],
      "execution_count": null,
      "outputs": []
    },
    {
      "cell_type": "code",
      "metadata": {
        "id": "5Cm5s0Jzhzlk"
      },
      "source": [
        ""
      ],
      "execution_count": null,
      "outputs": []
    },
    {
      "cell_type": "code",
      "metadata": {
        "id": "31r_9iM9hzeZ"
      },
      "source": [
        ""
      ],
      "execution_count": null,
      "outputs": []
    },
    {
      "cell_type": "code",
      "metadata": {
        "id": "fYcdqCZChzVG"
      },
      "source": [
        ""
      ],
      "execution_count": null,
      "outputs": []
    },
    {
      "cell_type": "code",
      "metadata": {
        "id": "fU1doXPMhzMP"
      },
      "source": [
        ""
      ],
      "execution_count": null,
      "outputs": []
    },
    {
      "cell_type": "code",
      "metadata": {
        "id": "FexqhWZDh0cm"
      },
      "source": [
        ""
      ],
      "execution_count": null,
      "outputs": []
    }
  ]
}